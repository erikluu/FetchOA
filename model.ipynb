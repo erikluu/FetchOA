{
 "cells": [
  {
   "cell_type": "markdown",
   "metadata": {},
   "source": [
    "# Fetch ML OA\n",
    "Predict number of receipts for a given future month."
   ]
  },
  {
   "cell_type": "markdown",
   "metadata": {},
   "source": [
    "I know this is super late. I'm grateful if you're looking at this. Thank you for the opportunity!"
   ]
  },
  {
   "cell_type": "markdown",
   "metadata": {},
   "source": [
    "## Load Data"
   ]
  },
  {
   "cell_type": "code",
   "execution_count": 25,
   "metadata": {},
   "outputs": [],
   "source": [
    "import pandas as pd\n",
    "import numpy as np\n",
    "import matplotlib.pyplot as plt"
   ]
  },
  {
   "cell_type": "code",
   "execution_count": 26,
   "metadata": {},
   "outputs": [
    {
     "data": {
      "text/html": [
       "<div>\n",
       "<style scoped>\n",
       "    .dataframe tbody tr th:only-of-type {\n",
       "        vertical-align: middle;\n",
       "    }\n",
       "\n",
       "    .dataframe tbody tr th {\n",
       "        vertical-align: top;\n",
       "    }\n",
       "\n",
       "    .dataframe thead th {\n",
       "        text-align: right;\n",
       "    }\n",
       "</style>\n",
       "<table border=\"1\" class=\"dataframe\">\n",
       "  <thead>\n",
       "    <tr style=\"text-align: right;\">\n",
       "      <th></th>\n",
       "      <th># Date</th>\n",
       "      <th>Receipt_Count</th>\n",
       "    </tr>\n",
       "  </thead>\n",
       "  <tbody>\n",
       "    <tr>\n",
       "      <th>0</th>\n",
       "      <td>2021-01-01</td>\n",
       "      <td>7564766</td>\n",
       "    </tr>\n",
       "    <tr>\n",
       "      <th>1</th>\n",
       "      <td>2021-01-02</td>\n",
       "      <td>7455524</td>\n",
       "    </tr>\n",
       "    <tr>\n",
       "      <th>2</th>\n",
       "      <td>2021-01-03</td>\n",
       "      <td>7095414</td>\n",
       "    </tr>\n",
       "    <tr>\n",
       "      <th>3</th>\n",
       "      <td>2021-01-04</td>\n",
       "      <td>7666163</td>\n",
       "    </tr>\n",
       "    <tr>\n",
       "      <th>4</th>\n",
       "      <td>2021-01-05</td>\n",
       "      <td>7771289</td>\n",
       "    </tr>\n",
       "  </tbody>\n",
       "</table>\n",
       "</div>"
      ],
      "text/plain": [
       "       # Date  Receipt_Count\n",
       "0  2021-01-01        7564766\n",
       "1  2021-01-02        7455524\n",
       "2  2021-01-03        7095414\n",
       "3  2021-01-04        7666163\n",
       "4  2021-01-05        7771289"
      ]
     },
     "execution_count": 26,
     "metadata": {},
     "output_type": "execute_result"
    }
   ],
   "source": [
    "receipts_2021_df = pd.read_csv(\"daily_data.csv\")\n",
    "receipts_2021_df.head()"
   ]
  },
  {
   "cell_type": "markdown",
   "metadata": {},
   "source": [
    "## Exploration and Prep"
   ]
  },
  {
   "cell_type": "code",
   "execution_count": 27,
   "metadata": {},
   "outputs": [
    {
     "name": "stdout",
     "output_type": "stream",
     "text": [
      "<class 'pandas.core.frame.DataFrame'>\n",
      "RangeIndex: 365 entries, 0 to 364\n",
      "Data columns (total 3 columns):\n",
      " #   Column         Non-Null Count  Dtype         \n",
      "---  ------         --------------  -----         \n",
      " 0   # Date         365 non-null    datetime64[ns]\n",
      " 1   Receipt_Count  365 non-null    int64         \n",
      " 2   Month          365 non-null    int32         \n",
      "dtypes: datetime64[ns](1), int32(1), int64(1)\n",
      "memory usage: 7.3 KB\n"
     ]
    }
   ],
   "source": [
    "receipts_2021_df['# Date'] = pd.to_datetime(receipts_2021_df['# Date'], format='%Y-%m-%d')\n",
    "receipts_2021_df[\"Month\"] = receipts_2021_df[\"# Date\"].dt.month\n",
    "receipts_2021_df.info()"
   ]
  },
  {
   "cell_type": "code",
   "execution_count": 28,
   "metadata": {},
   "outputs": [
    {
     "data": {
      "image/png": "[encoded data removed]",
      "text/plain": [
       "<Figure size 640x480 with 1 Axes>"
      ]
     },
     "metadata": {},
     "output_type": "display_data"
    }
   ],
   "source": [
    "monthly_receipts = receipts_2021_df.groupby(\"Month\")[\"Receipt_Count\"].sum()\n",
    "\n",
    "plt.plot(monthly_receipts)\n",
    "plt.xlabel('Month')\n",
    "plt.ylabel('Receipt Count')\n",
    "plt.title('Monthly Receipt Count (2021)')\n",
    "plt.show()"
   ]
  },
  {
   "cell_type": "markdown",
   "metadata": {},
   "source": [
    "Notes:\n",
    "- Relationship looks very linear. Models to try: Linear Regression with ridge penalty, and NN.\n",
    "- Not enough data to create a validation/testing set, so we will test compared to the real 2021 values."
   ]
  },
  {
   "cell_type": "markdown",
   "metadata": {},
   "source": [
    "## Linear Regression with Ridge Penalty (Gradient Descent)\n",
    "\n",
    "The ridge penalty is used in linear regression to prevent overfitting by adding a regularization term to the loss function. It helps to reduce the impact of large coefficients in the model, which can lead to overfitting.  \n",
    "\n",
    "My code from a class assignment."
   ]
  },
  {
   "cell_type": "code",
   "execution_count": 29,
   "metadata": {},
   "outputs": [],
   "source": [
    "def MSE(y_values, yhat):\n",
    "    return np.mean((y_values - yhat) ** 2)\n",
    "\n",
    "\n",
    "def r_squared(y_values, yhat):\n",
    "    ss_residual = np.sum((y_values - yhat) ** 2)\n",
    "    ss_total = np.sum((y_values - np.mean(y_values)) ** 2)\n",
    "    return 1 - (ss_residual / ss_total)\n",
    "\n",
    "\n",
    "def adjusted_r_squared(y_values, yhat):\n",
    "    n = len(y_values)\n",
    "    p = 1 # only one predictor is this OA\n",
    "    r2 = r_squared(y_values, yhat)\n",
    "    return 1 - (1 - r2) * (n - 1) / (n - p - 1)\n",
    "\n",
    "\n",
    "def AIC(y_values, yhat):\n",
    "    n = len(y_values)\n",
    "    p = 1\n",
    "    mse = MSE(y_values, yhat)\n",
    "    aic = n * np.log(mse / n) + 2 * p\n",
    "    return aic\n",
    "\n",
    "\n",
    "def BIC(y_values, yhat):\n",
    "    n = len(y_values)\n",
    "    p = 1\n",
    "    mse = MSE(y_values, yhat)\n",
    "    bic = n * np.log(mse / n) + p * np.log(n)\n",
    "    return bic"
   ]
  },
  {
   "cell_type": "code",
   "execution_count": 30,
   "metadata": {},
   "outputs": [],
   "source": [
    "def predict(B, X):\n",
    "    return np.sum(B * X, axis=1)\n",
    "\n",
    "\n",
    "def ridge_gradient(X, y, B, lam):\n",
    "    p = predict(B, X)\n",
    "\n",
    "    t0 = (y * (1 - p))[:, np.newaxis] * X\n",
    "    t1 = ((1 - y) * p)[:, np.newaxis] * X\n",
    "    gradient = -1 * np.sum(t0 , axis=0) + np.sum(t1, axis=0)\n",
    "\n",
    "    ridge_term = np.squeeze(2 * lam * B)\n",
    "    gradient += ridge_term\n",
    "\n",
    "    return gradient\n",
    "\n",
    "\n",
    "def fit_linear_regression_ridge(X, y, lam, eta=0.001, decay_factor=1, max_iter=1e6):\n",
    "    B = np.zeros(len(X[0]))\n",
    "    \n",
    "    i = 0\n",
    "    while i < max_iter:\n",
    "        gradient = ridge_gradient(X, y, B, lam)\n",
    "        B_new = -eta * gradient + B\n",
    "        eta = eta * decay_factor\n",
    "\n",
    "        if np.sum(B - B_new) / len(B) < 0.01: # stopping condisiton\n",
    "            return B_new\n",
    "\n",
    "        B = B_new\n",
    "        i += 1\n",
    "\n",
    "    return B\n",
    "\n",
    "\n",
    "def test_lambdas(X_train, y_train, lambdas, metric_f):\n",
    "    results = []\n",
    "    for lam in lambdas:\n",
    "        B = fit_linear_regression_ridge(X_train, y_train, lam)\n",
    "        metric = metric_f(y_train, predict(B, X_train))\n",
    "        results.append((B, metric))\n",
    "    return results\n"
   ]
  },
  {
   "cell_type": "code",
   "execution_count": 31,
   "metadata": {},
   "outputs": [],
   "source": [
    "X_train = np.expand_dims(monthly_receipts.index.values, axis=1)\n",
    "X_train = np.hstack((np.ones_like(X_train), X_train)) # intercept\n",
    "\n",
    "y_train = np.array(monthly_receipts.values)"
   ]
  },
  {
   "cell_type": "code",
   "execution_count": 32,
   "metadata": {},
   "outputs": [
    {
     "data": {
      "text/plain": [
       "[(array([ 3221696.609, 21966174.677]), -26.03632234440216),\n",
       " (array([ 3221696.609, 21966174.677]), -26.03632234440216),\n",
       " (array([ 3221696.609, 21966174.677]), -26.03632234440216),\n",
       " (array([ 3221696.609, 21966174.677]), -26.03632234440216),\n",
       " (array([ 3221696.609, 21966174.677]), -26.03632234440216),\n",
       " (array([ 3221696.609, 21966174.677]), -26.03632234440216),\n",
       " (array([ 3221696.609, 21966174.677]), -26.03632234440216),\n",
       " (array([ 3221696.609, 21966174.677]), -26.03632234440216),\n",
       " (array([ 3221696.609, 21966174.677]), -26.03632234440216),\n",
       " (array([ 3221696.609, 21966174.677]), -26.03632234440216)]"
      ]
     },
     "execution_count": 32,
     "metadata": {},
     "output_type": "execute_result"
    }
   ],
   "source": [
    "test_lambdas(X_train, y_train, [0.01, 0.1, 1, 5, 10, 20, 30, 50, 100, 1000], r_squared)"
   ]
  },
  {
   "cell_type": "code",
   "execution_count": 33,
   "metadata": {},
   "outputs": [
    {
     "data": {
      "text/plain": [
       "array([ 2518787.1286,  4715404.5963,  6912022.064 ,  9108639.5317,\n",
       "       11305256.9994, 13501874.4671, 15698491.9348, 17895109.4025,\n",
       "       20091726.8702, 22288344.3379, 24484961.8056, 26681579.2733])"
      ]
     },
     "execution_count": 33,
     "metadata": {},
     "output_type": "execute_result"
    }
   ],
   "source": [
    "lr_yhat = predict([322169.6609, 2196617.4677], X_train)\n",
    "lr_yhat"
   ]
  },
  {
   "cell_type": "markdown",
   "metadata": {},
   "source": [
    "Notes:\n",
    "- Lambda has no effect?\n",
    "- Eta (learning rate) is very influential."
   ]
  },
  {
   "cell_type": "markdown",
   "metadata": {},
   "source": [
    "## PyTorch Neural Net Model"
   ]
  },
  {
   "cell_type": "code",
   "execution_count": 34,
   "metadata": {},
   "outputs": [],
   "source": [
    "from tqdm import tqdm\n",
    "import torch\n",
    "import torch.nn as nn\n",
    "import torch.optim as optim\n",
    "from torch.utils.data import DataLoader, TensorDataset"
   ]
  },
  {
   "cell_type": "code",
   "execution_count": 35,
   "metadata": {},
   "outputs": [],
   "source": [
    "class SimpleClassifier(nn.Module):\n",
    "    def __init__(self, input_size, hidden_size, output_size):\n",
    "        super(SimpleClassifier, self).__init__()\n",
    "        self.fc1 = nn.Linear(input_size, hidden_size)\n",
    "        self.relu = nn.ReLU()\n",
    "        self.fc2 = nn.Linear(hidden_size, output_size)\n",
    "\n",
    "    def forward(self, x):\n",
    "        x = self.fc1(x)\n",
    "        x = self.relu(x)\n",
    "        x = self.fc2(x)\n",
    "        return x\n",
    "\n",
    "\n",
    "def train_model(model, train_loader, criterion, optimizer, num_epochs):\n",
    "    loss = 0.0\n",
    "    for _ in tqdm(range(num_epochs)):\n",
    "        running_loss = 0.0\n",
    "        for inputs, labels in train_loader:\n",
    "            optimizer.zero_grad()\n",
    "            outputs = model(inputs)\n",
    "            loss = criterion(outputs, labels)\n",
    "            loss.backward()\n",
    "            optimizer.step()\n",
    "            running_loss += loss.item()\n",
    "        loss = running_loss\n",
    "    print(f\"Final Loss: {running_loss/len(train_loader)}\")"
   ]
  },
  {
   "cell_type": "code",
   "execution_count": 36,
   "metadata": {},
   "outputs": [],
   "source": [
    "X_train_nn = torch.Tensor(monthly_receipts.index.values)\n",
    "y_train_nn = torch.Tensor(monthly_receipts.values)\n",
    "\n",
    "train_dataset = TensorDataset(X_train_nn, y_train_nn)\n",
    "train_loader = DataLoader(train_dataset, batch_size=64, shuffle=True)"
   ]
  },
  {
   "cell_type": "code",
   "execution_count": 38,
   "metadata": {},
   "outputs": [
    {
     "name": "stderr",
     "output_type": "stream",
     "text": [
      "100%|██████████| 100000/100000 [00:43<00:00, 2301.72it/s]"
     ]
    },
    {
     "name": "stdout",
     "output_type": "stream",
     "text": [
      "Final Loss: 45377147371520.0\n"
     ]
    },
    {
     "name": "stderr",
     "output_type": "stream",
     "text": [
      "\n"
     ]
    }
   ],
   "source": [
    "model = SimpleClassifier(input_size=12, hidden_size=100, output_size=12)\n",
    "criterion = nn.MSELoss() # no concerns about outliers so MSE is reasonable\n",
    "optimizer = optim.Adam(model.parameters(), lr=0.1)\n",
    "\n",
    "train_model(model, train_loader, criterion, optimizer, num_epochs=100000)"
   ]
  },
  {
   "cell_type": "code",
   "execution_count": 39,
   "metadata": {},
   "outputs": [
    {
     "data": {
      "text/plain": [
       "array([2.2877776e+08, 2.3641480e+08, 2.4394035e+08, 2.5053752e+08,\n",
       "       2.5778395e+08, 2.6495542e+08, 2.7255312e+08, 2.7867651e+08,\n",
       "       2.8711296e+08, 2.9291920e+08, 2.9978365e+08, 3.0807402e+08],\n",
       "      dtype=float32)"
      ]
     },
     "execution_count": 39,
     "metadata": {},
     "output_type": "execute_result"
    }
   ],
   "source": [
    "nn_yhat = model(X_train_nn)\n",
    "nn_yhat = nn_yhat.detach().numpy()\n",
    "nn_yhat"
   ]
  },
  {
   "cell_type": "markdown",
   "metadata": {},
   "source": [
    "Notes:\n",
    "- Seems overly complicated for what looks like a linear problem.\n"
   ]
  },
  {
   "cell_type": "markdown",
   "metadata": {},
   "source": [
    "## Evaluation"
   ]
  },
  {
   "cell_type": "code",
   "execution_count": 41,
   "metadata": {},
   "outputs": [
    {
     "data": {
      "image/png": "[encoded data removed]",
      "text/plain": [
       "<Figure size 640x480 with 1 Axes>"
      ]
     },
     "metadata": {},
     "output_type": "display_data"
    }
   ],
   "source": [
    "plt.plot(y_train, label='2021 Receipt Count')\n",
    "plt.plot(lr_yhat, label='LR')\n",
    "plt.plot(nn_yhat, label='NN')\n",
    "plt.xlabel('Month')\n",
    "plt.ylabel('Receipt Count')\n",
    "plt.title('Monthly Receipt Count (2022... kinda)')\n",
    "plt.legend()\n",
    "plt.show()"
   ]
  },
  {
   "cell_type": "markdown",
   "metadata": {},
   "source": [
    "Notes:\n",
    "- Something is wrong with my Linear Regression model. Not sure why the interccept doesn't want to budge but the slope looks spot on.\n",
    "- NN looks fantastic.\n",
    "- In a realistic scenario, I would hopefully have more data so I don't test on the data I trained on. However, I think this is okay in this case as we have so limited data."
   ]
  },
  {
   "cell_type": "markdown",
   "metadata": {},
   "source": [
    "## Interaction"
   ]
  },
  {
   "cell_type": "code",
   "execution_count": 44,
   "metadata": {},
   "outputs": [
    {
     "data": {
      "text/plain": [
       "243940350.0"
      ]
     },
     "execution_count": 44,
     "metadata": {},
     "output_type": "execute_result"
    }
   ],
   "source": [
    "def predict_receipts_by_month(outputs, month):\n",
    "    month_to_number = {\n",
    "        'january': 1,\n",
    "        'february': 2,\n",
    "        'march': 3,\n",
    "        'april': 4,\n",
    "        'may': 5,\n",
    "        'june': 6,\n",
    "        'july': 7,\n",
    "        'august': 8,\n",
    "        'september': 9,\n",
    "        'october': 10,\n",
    "        'november': 11,\n",
    "        'december': 12\n",
    "    }\n",
    "    month_number = month_to_number.get(month.lower(), None)\n",
    "    if month_number is None:\n",
    "        print(\"Invalid month\")\n",
    "        return\n",
    "    return outputs[month_number]\n",
    "\n",
    "outputs = [2.2877776e+08, 2.3641480e+08, 2.4394035e+08, 2.5053752e+08,\n",
    "       2.5778395e+08, 2.6495542e+08, 2.7255312e+08, 2.7867651e+08,\n",
    "       2.8711296e+08, 2.9291920e+08, 2.9978365e+08, 3.0807402e+08]\n",
    "\n",
    "# CHANGE THE MONTH HERE TO SEE PREDICTION FOR 2022 :)\n",
    "predict_receipts_by_month(outputs, 'february')"
   ]
  },
  {
   "cell_type": "markdown",
   "metadata": {},
   "source": [
    "Since we only have one year of data, we cannot predict anything more than month as we don't have any information about trends across years. So, this is the best we can do. The benefit of this is no recalculations but it definitely can be improved with more data."
   ]
  }
 ],
 "metadata": {
  "kernelspec": {
   "display_name": "data403",
   "language": "python",
   "name": "python3"
  },
  "language_info": {
   "codemirror_mode": {
    "name": "ipython",
    "version": 3
   },
   "file_extension": ".py",
   "mimetype": "text/x-python",
   "name": "python",
   "nbconvert_exporter": "python",
   "pygments_lexer": "ipython3",
   "version": "3.11.5"
  }
 },
 "nbformat": 4,
 "nbformat_minor": 2
}
